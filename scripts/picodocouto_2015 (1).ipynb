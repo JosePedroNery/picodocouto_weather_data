{
 "cells": [
  {
   "cell_type": "code",
   "execution_count": 1,
   "id": "a8435f00-2867-4ada-a4eb-0fe43788e6ef",
   "metadata": {},
   "outputs": [],
   "source": [
    "import requests\n",
    "import datetime\n",
    "from datetime import datetime\n",
    "import wget\n",
    "import logging"
   ]
  },
  {
   "cell_type": "code",
   "execution_count": 2,
   "id": "ea72276b-1507-4f04-9e1d-55a8f1fa29b6",
   "metadata": {},
   "outputs": [],
   "source": [
    "logging.basicConfig(level=logging.INFO, filename=\"pc.log\", format=\"%(asctime)s - %(levelname)s - %(message)s\")"
   ]
  },
  {
   "cell_type": "code",
   "execution_count": 3,
   "id": "e487f934-6c4a-4225-83ad-98d655886b4d",
   "metadata": {},
   "outputs": [],
   "source": [
    "#convertendo as horas do documento .txt no formato específico\n",
    "\n",
    "from datetime import datetime\n",
    "\n",
    "lf = list(open('/home/jose/IC/pc/datas_relevantes.txt','r'))\n",
    "lf1 = [s.rstrip() for s in lf]\n",
    "lf2 = [s.replace(\" \", \"\") for s in lf1]\n",
    "lf3 = [datetime.strptime(s, '%d/%m/%Y').date() for s in lf2]\n",
    "datas = [i.strftime('%Y%m%d') for i in lf3]"
   ]
  },
  {
   "cell_type": "code",
   "execution_count": 4,
   "id": "39f2695c-6527-4b13-9974-b51f2405a078",
   "metadata": {},
   "outputs": [],
   "source": [
    "#construindo horas do dia:\n",
    "\n",
    "r1 = [str(r) for r in range(24)]\n",
    "r2 = [i.zfill(2) for i in r1]"
   ]
  },
  {
   "cell_type": "code",
   "execution_count": 5,
   "id": "30153363-039b-47a6-8876-58e3653b5c79",
   "metadata": {},
   "outputs": [],
   "source": [
    "#juntando as datas com suas respectivas 23 horas:\n",
    "\n",
    "datas_horas = [j + i for j in datas for i in r2]"
   ]
  },
  {
   "cell_type": "code",
   "execution_count": 6,
   "id": "6f1ee864-b005-4ada-b0a4-22d3c874971e",
   "metadata": {},
   "outputs": [],
   "source": [
    "logging.info(\"Iniciando requisição\")\n",
    "requisicao = [requests.get('https://api-redemet.decea.mil.br/produtos/radar/03km?api_key=P53UkUuaqdJ3GjMoRhNElsIf5gzBD2w2iwPNqhUd&radar=pc&anima=3&data=' + i) for i in datas_horas]\n",
    "logging.info(\"Requisição completa\")"
   ]
  },
  {
   "cell_type": "code",
   "execution_count": 7,
   "id": "83d27a2e-f1e3-4b60-87f1-00bee8da912b",
   "metadata": {},
   "outputs": [],
   "source": [
    "#transformando objeto retornado em json:\n",
    "\n",
    "json = [i.json() for i in requisicao]"
   ]
  },
  {
   "cell_type": "code",
   "execution_count": 8,
   "id": "cf38da93-2061-4bff-be8d-ba2e05824d3d",
   "metadata": {},
   "outputs": [],
   "source": [
    "true = [i for i in json if i[\"status\"] ==True]"
   ]
  },
  {
   "cell_type": "code",
   "execution_count": 9,
   "id": "9a938f66-08ef-453e-ae13-2f67c4597163",
   "metadata": {},
   "outputs": [],
   "source": [
    "#\"quebrando\" as primeiras chaves do arquivo:\n",
    "\n",
    "radares = [i[\"data\"][\"radar\"] for i in true]"
   ]
  },
  {
   "cell_type": "markdown",
   "id": "8afb84da-ad70-422a-abd5-935a5266668e",
   "metadata": {},
   "source": [
    "A API organiza a função \"anima\" criando listas com a quantidade inserida pelo usuário. Como nosso anima = 3, serão três listas:"
   ]
  },
  {
   "cell_type": "code",
   "execution_count": 10,
   "id": "cb9f7a86-c110-4524-99ab-9bd034d0ce78",
   "metadata": {},
   "outputs": [],
   "source": [
    "#acessando as respectivas listas que a função \"anima\" retornou:\n",
    "\n",
    "rad1 = [i[0] for i in radares]\n",
    "rad2 = [i[1] for i in radares]\n",
    "rad3 = [i[2] for i in radares]\n",
    "radares_1 = rad1 + rad2 + rad3"
   ]
  },
  {
   "cell_type": "code",
   "execution_count": 23,
   "id": "2b5f1c21-14a6-469e-9aa4-0f7b5fcacb94",
   "metadata": {},
   "outputs": [],
   "source": [
    "nome = [i[11] for i in radares_1]\n",
    "nome_t = [x for x in nome if x[\"nome\"] != \"Radar - Pico do Couto/RJ\"]"
   ]
  },
  {
   "cell_type": "code",
   "execution_count": 12,
   "id": "ef4277bf-4bb3-46d1-be1f-8bb69b2bb5bd",
   "metadata": {},
   "outputs": [],
   "source": [
    "date1 = [i[11][\"data\"] for i in radares_1]\n",
    "date_t = [x for x in date1 if x is not None]\n",
    "date_t = [datetime.strptime(i, '%Y-%m-%d %H:%M:%S').date() for i in date_t]\n",
    "date_days = [i.strftime('%Y%m%d') for i in date_t]\n",
    "date_days = list(set(date_days))"
   ]
  },
  {
   "cell_type": "code",
   "execution_count": 20,
   "id": "6f8eb2cc-0dbe-4a61-8c8a-9ea2f8273cda",
   "metadata": {},
   "outputs": [],
   "source": [
    "with open('DATAS_COM_IMAGENS.txt', 'w') as arquivo:\n",
    "    arquivo.write(str(date_days))"
   ]
  },
  {
   "cell_type": "code",
   "execution_count": 21,
   "id": "c8ecd12e-8eb8-4726-9882-d01331ca196a",
   "metadata": {},
   "outputs": [
    {
     "data": {
      "text/plain": [
       "90"
      ]
     },
     "execution_count": 21,
     "metadata": {},
     "output_type": "execute_result"
    }
   ],
   "source": [
    "len(date_days)"
   ]
  },
  {
   "cell_type": "code",
   "execution_count": 13,
   "id": "3b2a5af3-fe27-4513-afdd-146b108aed2c",
   "metadata": {},
   "outputs": [
    {
     "name": "stdout",
     "output_type": "stream",
     "text": [
      "['20180125', '20161220', '20191211', '20191212', '20190407']\n"
     ]
    }
   ],
   "source": [
    "datas_sem_retorno = list(set(datas) - set(date_days))\n",
    "print(datas_sem_retorno[:5]) \n",
    "logging.warning(f'Datas sem retorno da api, ou sem dados válidos: {datas_sem_retorno}')"
   ]
  },
  {
   "cell_type": "code",
   "execution_count": 15,
   "id": "c96ab8e1-1637-4d2a-83ad-5f64d9e92bd6",
   "metadata": {},
   "outputs": [],
   "source": [
    "#Acessando os paths do radar pico do couto:\n",
    "\n",
    "pc = [i[11][\"path\"] for i in radares_1]\n",
    "path_pc = list(set(pc))\n",
    "path_pc = [i for i in path_pc if type(i) is str]"
   ]
  },
  {
   "cell_type": "code",
   "execution_count": 16,
   "id": "298b70b7-127e-4906-a568-989b60cde4a8",
   "metadata": {},
   "outputs": [
    {
     "name": "stdout",
     "output_type": "stream",
     "text": [
      "100% [..............................................................] 451 / 451"
     ]
    }
   ],
   "source": [
    "#Baixando imagens no repositório no qual esse notebook foi aberto:\n",
    "\n",
    "for i in path_pc:\n",
    "\n",
    " image_url = i\n",
    " image_filename = wget.download(image_url)\n",
    "\n",
    "logging.info(\"Imagens baixadas\")"
   ]
  },
  {
   "cell_type": "code",
   "execution_count": null,
   "id": "c3848928-b91d-4281-9e37-5186af9c0327",
   "metadata": {},
   "outputs": [],
   "source": []
  }
 ],
 "metadata": {
  "kernelspec": {
   "display_name": "Python 3 (ipykernel)",
   "language": "python",
   "name": "python3"
  },
  "language_info": {
   "codemirror_mode": {
    "name": "ipython",
    "version": 3
   },
   "file_extension": ".py",
   "mimetype": "text/x-python",
   "name": "python",
   "nbconvert_exporter": "python",
   "pygments_lexer": "ipython3",
   "version": "3.11.0"
  }
 },
 "nbformat": 4,
 "nbformat_minor": 5
}
